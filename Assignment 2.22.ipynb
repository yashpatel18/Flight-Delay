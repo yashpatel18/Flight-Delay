{
 "cells": [
  {
   "cell_type": "markdown",
   "id": "6866c537",
   "metadata": {},
   "source": [
    "# Assignment 2\n",
    "\n",
    "#### Flight Delays Dataset"
   ]
  },
  {
   "cell_type": "code",
   "execution_count": 1,
   "id": "ae807613",
   "metadata": {},
   "outputs": [],
   "source": [
    "#importing libraries\n",
    "\n",
    "import pandas as pd\n",
    "import seaborn as sns\n",
    "import matplotlib.pyplot as plt\n",
    "from sklearn.model_selection import train_test_split\n",
    "from sklearn.naive_bayes import MultinomialNB\n",
    "from sklearn.neighbors import KNeighborsClassifier\n",
    "from sklearn.ensemble import RandomForestClassifier\n",
    "import matplotlib.pylab as plt\n",
    "from sklearn.metrics import accuracy_score, classification_report, confusion_matrix\n",
    "import warnings\n",
    "warnings.filterwarnings('ignore')"
   ]
  },
  {
   "cell_type": "markdown",
   "id": "484aff15",
   "metadata": {},
   "source": [
    "# Exploratory Data Analysis"
   ]
  },
  {
   "cell_type": "code",
   "execution_count": 2,
   "id": "50d8a373",
   "metadata": {},
   "outputs": [
    {
     "name": "stdout",
     "output_type": "stream",
     "text": [
      "<class 'pandas.core.frame.DataFrame'>\n",
      "RangeIndex: 2201 entries, 0 to 2200\n",
      "Data columns (total 13 columns):\n",
      " #   Column         Non-Null Count  Dtype \n",
      "---  ------         --------------  ----- \n",
      " 0   CRS_DEP_TIME   2201 non-null   int64 \n",
      " 1   CARRIER        2201 non-null   object\n",
      " 2   DEP_TIME       2201 non-null   int64 \n",
      " 3   DEST           2201 non-null   object\n",
      " 4   DISTANCE       2201 non-null   int64 \n",
      " 5   FL_DATE        2201 non-null   object\n",
      " 6   FL_NUM         2201 non-null   int64 \n",
      " 7   ORIGIN         2201 non-null   object\n",
      " 8   Weather        2201 non-null   int64 \n",
      " 9   DAY_WEEK       2201 non-null   int64 \n",
      " 10  DAY_OF_MONTH   2201 non-null   int64 \n",
      " 11  TAIL_NUM       2201 non-null   object\n",
      " 12  Flight Status  2201 non-null   object\n",
      "dtypes: int64(7), object(6)\n",
      "memory usage: 223.7+ KB\n",
      "None\n"
     ]
    }
   ],
   "source": [
    "#Reading the data file\n",
    "delay_df = pd.read_csv('FlightDelays.csv')\n",
    "\n",
    "# Check data types and missing values\n",
    "print(delay_df.info())"
   ]
  },
  {
   "cell_type": "code",
   "execution_count": 3,
   "id": "addee2dd",
   "metadata": {},
   "outputs": [
    {
     "name": "stdout",
     "output_type": "stream",
     "text": [
      "       CRS_DEP_TIME     DEP_TIME     DISTANCE       FL_NUM      Weather  \\\n",
      "count   2201.000000  2201.000000  2201.000000  2201.000000  2201.000000   \n",
      "mean    1371.938664  1369.298955   211.871422  3815.086324     0.014539   \n",
      "std      432.697149   442.462754    13.316815  2409.750224     0.119725   \n",
      "min      600.000000    10.000000   169.000000   746.000000     0.000000   \n",
      "25%     1000.000000  1004.000000   213.000000  2156.000000     0.000000   \n",
      "50%     1455.000000  1450.000000   214.000000  2385.000000     0.000000   \n",
      "75%     1710.000000  1709.000000   214.000000  6155.000000     0.000000   \n",
      "max     2130.000000  2330.000000   229.000000  7924.000000     1.000000   \n",
      "\n",
      "          DAY_WEEK  DAY_OF_MONTH  \n",
      "count  2201.000000   2201.000000  \n",
      "mean      3.905498     16.024989  \n",
      "std       1.903149      8.677390  \n",
      "min       1.000000      1.000000  \n",
      "25%       2.000000      8.000000  \n",
      "50%       4.000000     16.000000  \n",
      "75%       5.000000     23.000000  \n",
      "max       7.000000     31.000000  \n"
     ]
    }
   ],
   "source": [
    "# Summary statistics\n",
    "print(delay_df.describe())"
   ]
  },
  {
   "cell_type": "code",
   "execution_count": 4,
   "id": "66f66625-276c-42a5-98a4-3b07381f9a88",
   "metadata": {},
   "outputs": [
    {
     "data": {
      "text/html": [
       "<div>\n",
       "<style scoped>\n",
       "    .dataframe tbody tr th:only-of-type {\n",
       "        vertical-align: middle;\n",
       "    }\n",
       "\n",
       "    .dataframe tbody tr th {\n",
       "        vertical-align: top;\n",
       "    }\n",
       "\n",
       "    .dataframe thead th {\n",
       "        text-align: right;\n",
       "    }\n",
       "</style>\n",
       "<table border=\"1\" class=\"dataframe\">\n",
       "  <thead>\n",
       "    <tr style=\"text-align: right;\">\n",
       "      <th></th>\n",
       "      <th>CRS_DEP_TIME</th>\n",
       "      <th>CARRIER</th>\n",
       "      <th>DEP_TIME</th>\n",
       "      <th>DEST</th>\n",
       "      <th>DISTANCE</th>\n",
       "      <th>FL_DATE</th>\n",
       "      <th>FL_NUM</th>\n",
       "      <th>ORIGIN</th>\n",
       "      <th>Weather</th>\n",
       "      <th>DAY_WEEK</th>\n",
       "      <th>DAY_OF_MONTH</th>\n",
       "      <th>TAIL_NUM</th>\n",
       "      <th>Flight Status</th>\n",
       "    </tr>\n",
       "  </thead>\n",
       "  <tbody>\n",
       "    <tr>\n",
       "      <th>0</th>\n",
       "      <td>1455</td>\n",
       "      <td>OH</td>\n",
       "      <td>1455</td>\n",
       "      <td>JFK</td>\n",
       "      <td>184</td>\n",
       "      <td>01/01/2004</td>\n",
       "      <td>5935</td>\n",
       "      <td>BWI</td>\n",
       "      <td>0</td>\n",
       "      <td>4</td>\n",
       "      <td>1</td>\n",
       "      <td>N940CA</td>\n",
       "      <td>ontime</td>\n",
       "    </tr>\n",
       "    <tr>\n",
       "      <th>1</th>\n",
       "      <td>1640</td>\n",
       "      <td>DH</td>\n",
       "      <td>1640</td>\n",
       "      <td>JFK</td>\n",
       "      <td>213</td>\n",
       "      <td>01/01/2004</td>\n",
       "      <td>6155</td>\n",
       "      <td>DCA</td>\n",
       "      <td>0</td>\n",
       "      <td>4</td>\n",
       "      <td>1</td>\n",
       "      <td>N405FJ</td>\n",
       "      <td>ontime</td>\n",
       "    </tr>\n",
       "    <tr>\n",
       "      <th>2</th>\n",
       "      <td>1245</td>\n",
       "      <td>DH</td>\n",
       "      <td>1245</td>\n",
       "      <td>LGA</td>\n",
       "      <td>229</td>\n",
       "      <td>01/01/2004</td>\n",
       "      <td>7208</td>\n",
       "      <td>IAD</td>\n",
       "      <td>0</td>\n",
       "      <td>4</td>\n",
       "      <td>1</td>\n",
       "      <td>N695BR</td>\n",
       "      <td>ontime</td>\n",
       "    </tr>\n",
       "    <tr>\n",
       "      <th>3</th>\n",
       "      <td>1715</td>\n",
       "      <td>DH</td>\n",
       "      <td>1709</td>\n",
       "      <td>LGA</td>\n",
       "      <td>229</td>\n",
       "      <td>01/01/2004</td>\n",
       "      <td>7215</td>\n",
       "      <td>IAD</td>\n",
       "      <td>0</td>\n",
       "      <td>4</td>\n",
       "      <td>1</td>\n",
       "      <td>N662BR</td>\n",
       "      <td>ontime</td>\n",
       "    </tr>\n",
       "    <tr>\n",
       "      <th>4</th>\n",
       "      <td>1039</td>\n",
       "      <td>DH</td>\n",
       "      <td>1035</td>\n",
       "      <td>LGA</td>\n",
       "      <td>229</td>\n",
       "      <td>01/01/2004</td>\n",
       "      <td>7792</td>\n",
       "      <td>IAD</td>\n",
       "      <td>0</td>\n",
       "      <td>4</td>\n",
       "      <td>1</td>\n",
       "      <td>N698BR</td>\n",
       "      <td>ontime</td>\n",
       "    </tr>\n",
       "    <tr>\n",
       "      <th>5</th>\n",
       "      <td>840</td>\n",
       "      <td>DH</td>\n",
       "      <td>839</td>\n",
       "      <td>JFK</td>\n",
       "      <td>228</td>\n",
       "      <td>01/01/2004</td>\n",
       "      <td>7800</td>\n",
       "      <td>IAD</td>\n",
       "      <td>0</td>\n",
       "      <td>4</td>\n",
       "      <td>1</td>\n",
       "      <td>N687BR</td>\n",
       "      <td>ontime</td>\n",
       "    </tr>\n",
       "    <tr>\n",
       "      <th>6</th>\n",
       "      <td>1240</td>\n",
       "      <td>DH</td>\n",
       "      <td>1243</td>\n",
       "      <td>JFK</td>\n",
       "      <td>228</td>\n",
       "      <td>01/01/2004</td>\n",
       "      <td>7806</td>\n",
       "      <td>IAD</td>\n",
       "      <td>0</td>\n",
       "      <td>4</td>\n",
       "      <td>1</td>\n",
       "      <td>N321UE</td>\n",
       "      <td>ontime</td>\n",
       "    </tr>\n",
       "    <tr>\n",
       "      <th>7</th>\n",
       "      <td>1645</td>\n",
       "      <td>DH</td>\n",
       "      <td>1644</td>\n",
       "      <td>JFK</td>\n",
       "      <td>228</td>\n",
       "      <td>01/01/2004</td>\n",
       "      <td>7810</td>\n",
       "      <td>IAD</td>\n",
       "      <td>0</td>\n",
       "      <td>4</td>\n",
       "      <td>1</td>\n",
       "      <td>N301UE</td>\n",
       "      <td>ontime</td>\n",
       "    </tr>\n",
       "    <tr>\n",
       "      <th>8</th>\n",
       "      <td>1715</td>\n",
       "      <td>DH</td>\n",
       "      <td>1710</td>\n",
       "      <td>JFK</td>\n",
       "      <td>228</td>\n",
       "      <td>01/01/2004</td>\n",
       "      <td>7812</td>\n",
       "      <td>IAD</td>\n",
       "      <td>0</td>\n",
       "      <td>4</td>\n",
       "      <td>1</td>\n",
       "      <td>N328UE</td>\n",
       "      <td>ontime</td>\n",
       "    </tr>\n",
       "    <tr>\n",
       "      <th>9</th>\n",
       "      <td>2120</td>\n",
       "      <td>DH</td>\n",
       "      <td>2129</td>\n",
       "      <td>JFK</td>\n",
       "      <td>228</td>\n",
       "      <td>01/01/2004</td>\n",
       "      <td>7814</td>\n",
       "      <td>IAD</td>\n",
       "      <td>0</td>\n",
       "      <td>4</td>\n",
       "      <td>1</td>\n",
       "      <td>N685BR</td>\n",
       "      <td>ontime</td>\n",
       "    </tr>\n",
       "  </tbody>\n",
       "</table>\n",
       "</div>"
      ],
      "text/plain": [
       "   CRS_DEP_TIME CARRIER  DEP_TIME DEST  DISTANCE     FL_DATE  FL_NUM ORIGIN  \\\n",
       "0          1455      OH      1455  JFK       184  01/01/2004    5935    BWI   \n",
       "1          1640      DH      1640  JFK       213  01/01/2004    6155    DCA   \n",
       "2          1245      DH      1245  LGA       229  01/01/2004    7208    IAD   \n",
       "3          1715      DH      1709  LGA       229  01/01/2004    7215    IAD   \n",
       "4          1039      DH      1035  LGA       229  01/01/2004    7792    IAD   \n",
       "5           840      DH       839  JFK       228  01/01/2004    7800    IAD   \n",
       "6          1240      DH      1243  JFK       228  01/01/2004    7806    IAD   \n",
       "7          1645      DH      1644  JFK       228  01/01/2004    7810    IAD   \n",
       "8          1715      DH      1710  JFK       228  01/01/2004    7812    IAD   \n",
       "9          2120      DH      2129  JFK       228  01/01/2004    7814    IAD   \n",
       "\n",
       "   Weather  DAY_WEEK  DAY_OF_MONTH TAIL_NUM Flight Status  \n",
       "0        0         4             1   N940CA        ontime  \n",
       "1        0         4             1   N405FJ        ontime  \n",
       "2        0         4             1   N695BR        ontime  \n",
       "3        0         4             1   N662BR        ontime  \n",
       "4        0         4             1   N698BR        ontime  \n",
       "5        0         4             1   N687BR        ontime  \n",
       "6        0         4             1   N321UE        ontime  \n",
       "7        0         4             1   N301UE        ontime  \n",
       "8        0         4             1   N328UE        ontime  \n",
       "9        0         4             1   N685BR        ontime  "
      ]
     },
     "execution_count": 4,
     "metadata": {},
     "output_type": "execute_result"
    }
   ],
   "source": [
    "#Presenting the 10 data records\n",
    "\n",
    "delay_df.head(10)"
   ]
  },
  {
   "cell_type": "code",
   "execution_count": 5,
   "id": "bdc5db37",
   "metadata": {},
   "outputs": [
    {
     "data": {
      "image/png": "[encoded data removed]",
      "text/plain": [
       "<Figure size 640x480 with 1 Axes>"
      ]
     },
     "metadata": {},
     "output_type": "display_data"
    }
   ],
   "source": [
    "# Distribution of flight statuses\n",
    "sns.countplot(x='Flight Status', data=delay_df)\n",
    "plt.title('Distribution of Flight Status')\n",
    "plt.show()"
   ]
  },
  {
   "cell_type": "markdown",
   "id": "04c04d0e",
   "metadata": {},
   "source": [
    "#### From the countplot above we can clearly see that most of the flights were on time and only about 400 flights were delayed."
   ]
  },
  {
   "cell_type": "code",
   "execution_count": 6,
   "id": "6054b7f4",
   "metadata": {},
   "outputs": [
    {
     "data": {
      "image/png": "[encoded data removed]",
      "text/plain": [
       "<Figure size 640x480 with 1 Axes>"
      ]
     },
     "metadata": {},
     "output_type": "display_data"
    }
   ],
   "source": [
    "# Relationship between departure time and flight status\n",
    "sns.boxplot(x='Flight Status', y='CRS_DEP_TIME', data=delay_df)\n",
    "plt.title('Departure Time vs. Flight Status')\n",
    "plt.xlabel('Flight Status')\n",
    "plt.ylabel('CRS Departure Time')\n",
    "plt.show()"
   ]
  },
  {
   "cell_type": "markdown",
   "id": "fbc80dd4",
   "metadata": {},
   "source": [
    "#### The boxplot depicts that; flights that took off around median value of 14:00 hrs were on time; but the flights which were delayed had departure median time of 15:00 hrs"
   ]
  },
  {
   "cell_type": "code",
   "execution_count": 7,
   "id": "39d8b751",
   "metadata": {},
   "outputs": [
    {
     "ename": "ValueError",
     "evalue": "could not convert string to float: 'OH'",
     "output_type": "error",
     "traceback": [
      "\u001b[0;31m---------------------------------------------------------------------------\u001b[0m",
      "\u001b[0;31mValueError\u001b[0m                                Traceback (most recent call last)",
      "Cell \u001b[0;32mIn[7], line 2\u001b[0m\n\u001b[1;32m      1\u001b[0m \u001b[38;5;66;03m# Calculate correlation matrix\u001b[39;00m\n\u001b[0;32m----> 2\u001b[0m correlation_matrix \u001b[38;5;241m=\u001b[39m delay_df\u001b[38;5;241m.\u001b[39mcorr()\n\u001b[1;32m      4\u001b[0m \u001b[38;5;66;03m# Visualize correlation matrix\u001b[39;00m\n\u001b[1;32m      5\u001b[0m sns\u001b[38;5;241m.\u001b[39mheatmap(correlation_matrix, annot\u001b[38;5;241m=\u001b[39m\u001b[38;5;28;01mTrue\u001b[39;00m, cmap\u001b[38;5;241m=\u001b[39m\u001b[38;5;124m'\u001b[39m\u001b[38;5;124mviridis\u001b[39m\u001b[38;5;124m'\u001b[39m, fmt\u001b[38;5;241m=\u001b[39m\u001b[38;5;124m\"\u001b[39m\u001b[38;5;124m.2f\u001b[39m\u001b[38;5;124m\"\u001b[39m)\n",
      "File \u001b[0;32m~/anaconda3/lib/python3.11/site-packages/pandas/core/frame.py:10054\u001b[0m, in \u001b[0;36mDataFrame.corr\u001b[0;34m(self, method, min_periods, numeric_only)\u001b[0m\n\u001b[1;32m  10052\u001b[0m cols \u001b[38;5;241m=\u001b[39m data\u001b[38;5;241m.\u001b[39mcolumns\n\u001b[1;32m  10053\u001b[0m idx \u001b[38;5;241m=\u001b[39m cols\u001b[38;5;241m.\u001b[39mcopy()\n\u001b[0;32m> 10054\u001b[0m mat \u001b[38;5;241m=\u001b[39m data\u001b[38;5;241m.\u001b[39mto_numpy(dtype\u001b[38;5;241m=\u001b[39m\u001b[38;5;28mfloat\u001b[39m, na_value\u001b[38;5;241m=\u001b[39mnp\u001b[38;5;241m.\u001b[39mnan, copy\u001b[38;5;241m=\u001b[39m\u001b[38;5;28;01mFalse\u001b[39;00m)\n\u001b[1;32m  10056\u001b[0m \u001b[38;5;28;01mif\u001b[39;00m method \u001b[38;5;241m==\u001b[39m \u001b[38;5;124m\"\u001b[39m\u001b[38;5;124mpearson\u001b[39m\u001b[38;5;124m\"\u001b[39m:\n\u001b[1;32m  10057\u001b[0m     correl \u001b[38;5;241m=\u001b[39m libalgos\u001b[38;5;241m.\u001b[39mnancorr(mat, minp\u001b[38;5;241m=\u001b[39mmin_periods)\n",
      "File \u001b[0;32m~/anaconda3/lib/python3.11/site-packages/pandas/core/frame.py:1838\u001b[0m, in \u001b[0;36mDataFrame.to_numpy\u001b[0;34m(self, dtype, copy, na_value)\u001b[0m\n\u001b[1;32m   1836\u001b[0m \u001b[38;5;28;01mif\u001b[39;00m dtype \u001b[38;5;129;01mis\u001b[39;00m \u001b[38;5;129;01mnot\u001b[39;00m \u001b[38;5;28;01mNone\u001b[39;00m:\n\u001b[1;32m   1837\u001b[0m     dtype \u001b[38;5;241m=\u001b[39m np\u001b[38;5;241m.\u001b[39mdtype(dtype)\n\u001b[0;32m-> 1838\u001b[0m result \u001b[38;5;241m=\u001b[39m \u001b[38;5;28mself\u001b[39m\u001b[38;5;241m.\u001b[39m_mgr\u001b[38;5;241m.\u001b[39mas_array(dtype\u001b[38;5;241m=\u001b[39mdtype, copy\u001b[38;5;241m=\u001b[39mcopy, na_value\u001b[38;5;241m=\u001b[39mna_value)\n\u001b[1;32m   1839\u001b[0m \u001b[38;5;28;01mif\u001b[39;00m result\u001b[38;5;241m.\u001b[39mdtype \u001b[38;5;129;01mis\u001b[39;00m \u001b[38;5;129;01mnot\u001b[39;00m dtype:\n\u001b[1;32m   1840\u001b[0m     result \u001b[38;5;241m=\u001b[39m np\u001b[38;5;241m.\u001b[39marray(result, dtype\u001b[38;5;241m=\u001b[39mdtype, copy\u001b[38;5;241m=\u001b[39m\u001b[38;5;28;01mFalse\u001b[39;00m)\n",
      "File \u001b[0;32m~/anaconda3/lib/python3.11/site-packages/pandas/core/internals/managers.py:1732\u001b[0m, in \u001b[0;36mBlockManager.as_array\u001b[0;34m(self, dtype, copy, na_value)\u001b[0m\n\u001b[1;32m   1730\u001b[0m         arr\u001b[38;5;241m.\u001b[39mflags\u001b[38;5;241m.\u001b[39mwriteable \u001b[38;5;241m=\u001b[39m \u001b[38;5;28;01mFalse\u001b[39;00m\n\u001b[1;32m   1731\u001b[0m \u001b[38;5;28;01melse\u001b[39;00m:\n\u001b[0;32m-> 1732\u001b[0m     arr \u001b[38;5;241m=\u001b[39m \u001b[38;5;28mself\u001b[39m\u001b[38;5;241m.\u001b[39m_interleave(dtype\u001b[38;5;241m=\u001b[39mdtype, na_value\u001b[38;5;241m=\u001b[39mna_value)\n\u001b[1;32m   1733\u001b[0m     \u001b[38;5;66;03m# The underlying data was copied within _interleave, so no need\u001b[39;00m\n\u001b[1;32m   1734\u001b[0m     \u001b[38;5;66;03m# to further copy if copy=True or setting na_value\u001b[39;00m\n\u001b[1;32m   1736\u001b[0m \u001b[38;5;28;01mif\u001b[39;00m na_value \u001b[38;5;129;01mis\u001b[39;00m \u001b[38;5;129;01mnot\u001b[39;00m lib\u001b[38;5;241m.\u001b[39mno_default:\n",
      "File \u001b[0;32m~/anaconda3/lib/python3.11/site-packages/pandas/core/internals/managers.py:1794\u001b[0m, in \u001b[0;36mBlockManager._interleave\u001b[0;34m(self, dtype, na_value)\u001b[0m\n\u001b[1;32m   1792\u001b[0m     \u001b[38;5;28;01melse\u001b[39;00m:\n\u001b[1;32m   1793\u001b[0m         arr \u001b[38;5;241m=\u001b[39m blk\u001b[38;5;241m.\u001b[39mget_values(dtype)\n\u001b[0;32m-> 1794\u001b[0m     result[rl\u001b[38;5;241m.\u001b[39mindexer] \u001b[38;5;241m=\u001b[39m arr\n\u001b[1;32m   1795\u001b[0m     itemmask[rl\u001b[38;5;241m.\u001b[39mindexer] \u001b[38;5;241m=\u001b[39m \u001b[38;5;241m1\u001b[39m\n\u001b[1;32m   1797\u001b[0m \u001b[38;5;28;01mif\u001b[39;00m \u001b[38;5;129;01mnot\u001b[39;00m itemmask\u001b[38;5;241m.\u001b[39mall():\n",
      "\u001b[0;31mValueError\u001b[0m: could not convert string to float: 'OH'"
     ]
    }
   ],
   "source": [
    "# Calculate correlation matrix\n",
    "correlation_matrix = delay_df.corr()\n",
    "\n",
    "# Visualize correlation matrix\n",
    "sns.heatmap(correlation_matrix, annot=True, cmap='viridis', fmt=\".2f\")\n",
    "plt.title('Correlation Matrix')\n",
    "plt.show()"
   ]
  },
  {
   "cell_type": "markdown",
   "id": "4fcfef96-173f-452e-9f48-23e73949c00b",
   "metadata": {},
   "source": [
    "# Naive Bayes Classifier\n",
    "\n",
    "#### Goal : To Predict flight status based on Departure time , Destination , Origin , Carrier and Day of the week"
   ]
  },
  {
   "cell_type": "code",
   "execution_count": 8,
   "id": "6592868d-c06b-435d-8dc9-07a094d7f026",
   "metadata": {},
   "outputs": [],
   "source": [
    "#Converting the Day_week column to Numerical data to Categorical values\n",
    "\n",
    "delay_df.DAY_WEEK = delay_df.DAY_WEEK.astype('category')"
   ]
  },
  {
   "cell_type": "code",
   "execution_count": 9,
   "id": "74916400-72cd-49af-b263-817daca47048",
   "metadata": {},
   "outputs": [],
   "source": [
    "#Creating hourly bins departure time\n",
    "\n",
    "delay_df.CRS_DEP_TIME = [round(t/100) for t in delay_df.CRS_DEP_TIME]\n",
    "delay_df.CRS_DEP_TIME = delay_df.CRS_DEP_TIME.astype('category')"
   ]
  },
  {
   "cell_type": "code",
   "execution_count": 10,
   "id": "832fa2e9-e631-4b92-94b0-ebb601019654",
   "metadata": {},
   "outputs": [],
   "source": [
    "#Splitting the data into Training and Testing Data\n",
    "\n",
    "predictors = ['DAY_WEEK','CRS_DEP_TIME','ORIGIN','DEST','CARRIER']\n",
    "outcome = 'Flight Status'\n",
    "\n",
    "X = pd.get_dummies(delay_df[predictors])\n",
    "y = delay_df['Flight Status']\n",
    "classes = ['on time','delayed']"
   ]
  },
  {
   "cell_type": "code",
   "execution_count": 11,
   "id": "2cafa958-aaf5-4bd0-bc60-ce70dc3d4fc5",
   "metadata": {},
   "outputs": [],
   "source": [
    "#Split the data into training and Validation\n",
    "\n",
    "X_train,X_valid,y_train,y_valid = train_test_split(X,y,test_size=0.40,random_state=1)"
   ]
  },
  {
   "cell_type": "code",
   "execution_count": 450,
   "id": "b28e3e58-df4a-421c-bad1-3412a799265f",
   "metadata": {},
   "outputs": [
    {
     "data": {
      "text/plain": [
       "MultinomialNB(alpha=0.01)"
      ]
     },
     "execution_count": 450,
     "metadata": {},
     "output_type": "execute_result"
    }
   ],
   "source": [
    "#Running Naive Bayes\n",
    "\n",
    "delay_nb = MultinomialNB(alpha=0.01)\n",
    "delay_nb.fit(X_train,y_train)\n"
   ]
  },
  {
   "cell_type": "code",
   "execution_count": 451,
   "id": "34fc803a-6c09-4a8e-ad32-049b9fcee871",
   "metadata": {},
   "outputs": [],
   "source": [
    "# predict probabilities (Shows the belonging probabilities of each record to which class)\n",
    "predProb_train = delay_nb.predict_proba(X_train)\n",
    "predProb_valid = delay_nb.predict_proba(X_valid)\n"
   ]
  },
  {
   "cell_type": "code",
   "execution_count": 452,
   "id": "714f625a",
   "metadata": {},
   "outputs": [],
   "source": [
    "# predict class membership (shows the class instead of probability by selecting the class with highest probability)\n",
    "y_valid_pred = delay_nb.predict(X_valid)\n",
    "y_train_pred = delay_nb.predict(X_train)"
   ]
  },
  {
   "cell_type": "code",
   "execution_count": 453,
   "id": "7896ca3f-8fef-4669-859d-87648aa472d4",
   "metadata": {},
   "outputs": [
    {
     "name": "stdout",
     "output_type": "stream",
     "text": [
      "Naive Bayes Classifier\n",
      "\n",
      "\n",
      "Accuracy: 0.78\n",
      "\n",
      "Confusion Matrix:\n",
      "[[ 26 141]\n",
      " [ 51 663]]\n",
      "\n",
      "Classification Report:\n",
      "              precision    recall  f1-score   support\n",
      "\n",
      "     delayed       0.34      0.16      0.21       167\n",
      "      ontime       0.82      0.93      0.87       714\n",
      "\n",
      "    accuracy                           0.78       881\n",
      "   macro avg       0.58      0.54      0.54       881\n",
      "weighted avg       0.73      0.78      0.75       881\n",
      "\n"
     ]
    }
   ],
   "source": [
    "# Evaluate the performance of the classifier\n",
    "accuracy = accuracy_score(y_valid, y_valid_pred)\n",
    "conf_matrix = confusion_matrix(y_valid, y_valid_pred)\n",
    "classification_rep = classification_report(y_valid, y_valid_pred, zero_division=1)\n",
    "\n",
    "print(\"Naive Bayes Classifier\\n\\n\")\n",
    "print(f\"Accuracy: {accuracy:.2f}\\n\")\n",
    "print(\"Confusion Matrix:\")\n",
    "print(conf_matrix)\n",
    "print(\"\\nClassification Report:\")\n",
    "print(classification_rep)"
   ]
  },
  {
   "cell_type": "markdown",
   "id": "7b7ea5c4",
   "metadata": {},
   "source": [
    "### Classifying a Atlantic Coast flight from Dulles to Kennedy departing between 3pm to 4pm on a Friday"
   ]
  },
  {
   "cell_type": "code",
   "execution_count": 454,
   "id": "25254eca-4990-429b-83a0-b3470ff03470",
   "metadata": {},
   "outputs": [
    {
     "name": "stdout",
     "output_type": "stream",
     "text": [
      "      actual predicted\n",
      "1611  ontime   delayed\n",
      "59    ontime   delayed\n",
      "1089  ontime   delayed\n"
     ]
    }
   ],
   "source": [
    "#Using the model to predict a new data\n",
    "\n",
    "df = pd.concat([pd.DataFrame({'actual':y_valid,'predicted':y_valid_pred})], axis=1)\n",
    "mask = ((X_valid.CARRIER_DH==1) & (X_valid.DAY_WEEK_5 ==1) & (X_valid.CRS_DEP_TIME_15 ==1) & \n",
    "        (X_valid.DEST_JFK ==1) & (X_valid.ORIGIN_IAD ==1))\n",
    "\n",
    "print(df[mask])"
   ]
  },
  {
   "cell_type": "markdown",
   "id": "e8a76092",
   "metadata": {},
   "source": [
    "# K- Nearest Neighbours Classifier"
   ]
  },
  {
   "cell_type": "code",
   "execution_count": 455,
   "id": "7e47a02d",
   "metadata": {},
   "outputs": [
    {
     "name": "stdout",
     "output_type": "stream",
     "text": [
      "   k  accuracy\n",
      "0  1  0.706016\n",
      "1  2  0.617480\n",
      "2  3  0.737798\n",
      "3  4  0.724177\n",
      "4  5  0.775255\n",
      "5  6  0.748014\n",
      "6  7  0.785471\n",
      "7  8  0.769580\n",
      "8  9  0.788876\n"
     ]
    }
   ],
   "source": [
    "# finding value of K and it's accuracy\n",
    "results = []\n",
    "for k in range(1, 10):\n",
    "    knn = KNeighborsClassifier(n_neighbors=k).fit(X_train, y_train)\n",
    "    results.append({\n",
    "    'k': k,\n",
    "    'accuracy': accuracy_score(y_valid, knn.predict(X_valid))\n",
    "   })\n",
    " \n",
    " # Convert results to a pandas data frame\n",
    "results = pd.DataFrame(results)\n",
    "print(results)"
   ]
  },
  {
   "cell_type": "code",
   "execution_count": 456,
   "id": "59237386",
   "metadata": {},
   "outputs": [
    {
     "data": {
      "image/png": "[encoded data removed]",
      "text/plain": [
       "<Figure size 640x480 with 1 Axes>"
      ]
     },
     "metadata": {},
     "output_type": "display_data"
    }
   ],
   "source": [
    "# Plot graph of k versus accuracy\n",
    "plt.plot(results['k'], results['accuracy'], marker='o')\n",
    "plt.title('k versus Accuracy')\n",
    "plt.xlabel('Value of k')\n",
    "plt.ylabel('Accuracy')\n",
    "plt.xticks(range(1, 10))\n",
    "plt.grid(True)\n",
    "plt.show()"
   ]
  },
  {
   "cell_type": "code",
   "execution_count": 457,
   "id": "478038a5",
   "metadata": {},
   "outputs": [
    {
     "data": {
      "text/plain": [
       "KNeighborsClassifier()"
      ]
     },
     "execution_count": 457,
     "metadata": {},
     "output_type": "execute_result"
    }
   ],
   "source": [
    "# Train a k-Nearest Neighbors (KNN) classifier\n",
    "k = 5  # Number of neighbors\n",
    "knn_classifier = KNeighborsClassifier(n_neighbors=k)\n",
    "knn_classifier.fit(X_train, y_train)"
   ]
  },
  {
   "cell_type": "code",
   "execution_count": 458,
   "id": "b885cf20",
   "metadata": {},
   "outputs": [],
   "source": [
    "# predict class membership (shows the class instead of probability by selecting the class with highest probability)\n",
    "y_valid_pred = knn_classifier.predict(X_valid)\n",
    "y_train_pred = knn_classifier.predict(X_train)"
   ]
  },
  {
   "cell_type": "code",
   "execution_count": 459,
   "id": "864a5253",
   "metadata": {},
   "outputs": [
    {
     "name": "stdout",
     "output_type": "stream",
     "text": [
      "KNN Clasifier\n",
      "\n",
      "\n",
      "Accuracy: 0.78\n",
      "\n",
      "Confusion Matrix:\n",
      "[[ 21 146]\n",
      " [ 52 662]]\n",
      "\n",
      "Classification Report:\n",
      "              precision    recall  f1-score   support\n",
      "\n",
      "     delayed       0.29      0.13      0.17       167\n",
      "      ontime       0.82      0.93      0.87       714\n",
      "\n",
      "    accuracy                           0.78       881\n",
      "   macro avg       0.55      0.53      0.52       881\n",
      "weighted avg       0.72      0.78      0.74       881\n",
      "\n"
     ]
    }
   ],
   "source": [
    "# Evaluate the performance of the classifier\n",
    "accuracy = accuracy_score(y_valid, y_valid_pred)\n",
    "conf_matrix = confusion_matrix(y_valid, y_valid_pred)\n",
    "classification_rep = classification_report(y_valid, y_valid_pred, zero_division=1)\n",
    "\n",
    "print(\"KNN Clasifier\\n\\n\")\n",
    "print(f\"Accuracy: {accuracy:.2f}\\n\")\n",
    "print(\"Confusion Matrix:\")\n",
    "print(conf_matrix)\n",
    "print(\"\\nClassification Report:\")\n",
    "print(classification_rep)"
   ]
  },
  {
   "cell_type": "markdown",
   "id": "d07936fc",
   "metadata": {},
   "source": [
    "### Classifying a Atlantic Coast flight from Dulles to Kennedy departing between 3pm to 4pm on a Friday"
   ]
  },
  {
   "cell_type": "code",
   "execution_count": 460,
   "id": "6ea46159",
   "metadata": {},
   "outputs": [
    {
     "name": "stdout",
     "output_type": "stream",
     "text": [
      "      actual predicted\n",
      "1611  ontime    ontime\n",
      "59    ontime    ontime\n",
      "1089  ontime    ontime\n"
     ]
    }
   ],
   "source": [
    "df = pd.concat([pd.DataFrame({'actual':y_valid,'predicted':y_valid_pred})], axis=1)\n",
    "mask = ((X_valid.CARRIER_DH==1) & (X_valid.DAY_WEEK_5 ==1) & (X_valid.CRS_DEP_TIME_15 ==1) & \n",
    "        (X_valid.DEST_JFK ==1) & (X_valid.ORIGIN_IAD ==1))\n",
    "\n",
    "print(df[mask])"
   ]
  },
  {
   "cell_type": "markdown",
   "id": "d025a9d8",
   "metadata": {},
   "source": [
    "# Random Forest Classifier"
   ]
  },
  {
   "cell_type": "code",
   "execution_count": 461,
   "id": "be725b55",
   "metadata": {},
   "outputs": [
    {
     "data": {
      "text/plain": [
       "RandomForestClassifier(random_state=39)"
      ]
     },
     "execution_count": 461,
     "metadata": {},
     "output_type": "execute_result"
    }
   ],
   "source": [
    "# Train Random Forest classifier\n",
    "random_forest_classifier = RandomForestClassifier(n_estimators=100, random_state=39)\n",
    "random_forest_classifier.fit(X_train, y_train)"
   ]
  },
  {
   "cell_type": "code",
   "execution_count": 462,
   "id": "aec67a0c",
   "metadata": {},
   "outputs": [],
   "source": [
    "# predict class membership (shows the class instead of probability by selecting the class with highest probability)\n",
    "y_valid_pred = random_forest_classifier.predict(X_valid)\n",
    "y_train_pred = random_forest_classifier.predict(X_train)"
   ]
  },
  {
   "cell_type": "code",
   "execution_count": 463,
   "id": "ca78e83c",
   "metadata": {},
   "outputs": [
    {
     "name": "stdout",
     "output_type": "stream",
     "text": [
      "Random Forest Clasifier\n",
      "\n",
      "\n",
      "Accuracy: 0.75\n",
      "\n",
      "Confusion Matrix:\n",
      "[[ 32 135]\n",
      " [ 88 626]]\n",
      "\n",
      "Classification Report:\n",
      "              precision    recall  f1-score   support\n",
      "\n",
      "     delayed       0.27      0.19      0.22       167\n",
      "      ontime       0.82      0.88      0.85       714\n",
      "\n",
      "    accuracy                           0.75       881\n",
      "   macro avg       0.54      0.53      0.54       881\n",
      "weighted avg       0.72      0.75      0.73       881\n",
      "\n"
     ]
    }
   ],
   "source": [
    "# Evaluate the performance of the classifier\n",
    "accuracy = accuracy_score(y_valid, y_valid_pred)\n",
    "conf_matrix = confusion_matrix(y_valid, y_valid_pred)\n",
    "classification_rep = classification_report(y_valid, y_valid_pred, zero_division=1)\n",
    "\n",
    "print(\"Random Forest Clasifier\\n\\n\")\n",
    "print(f\"Accuracy: {accuracy:.2f}\\n\")\n",
    "print(\"Confusion Matrix:\")\n",
    "print(conf_matrix)\n",
    "print(\"\\nClassification Report:\")\n",
    "print(classification_rep)"
   ]
  },
  {
   "cell_type": "markdown",
   "id": "f09d11c5",
   "metadata": {},
   "source": [
    "### Classifying a Atlantic Coast flight from Dulles to Kennedy departing between 3pm to 4pm on a Friday"
   ]
  },
  {
   "cell_type": "code",
   "execution_count": 464,
   "id": "af88081a",
   "metadata": {},
   "outputs": [
    {
     "name": "stdout",
     "output_type": "stream",
     "text": [
      "      actual predicted\n",
      "1611  ontime    ontime\n",
      "59    ontime    ontime\n",
      "1089  ontime    ontime\n"
     ]
    }
   ],
   "source": [
    "#Using the model to predict a new data\n",
    "\n",
    "df = pd.concat([pd.DataFrame({'actual':y_valid,'predicted':y_valid_pred})], axis=1)\n",
    "mask = ((X_valid.CARRIER_DH==1) & (X_valid.DAY_WEEK_5 ==1) & (X_valid.CRS_DEP_TIME_15 ==1) & \n",
    "        (X_valid.DEST_JFK ==1) & (X_valid.ORIGIN_IAD ==1))\n",
    "\n",
    "print(df[mask])"
   ]
  },
  {
   "cell_type": "code",
   "execution_count": null,
   "id": "8f764799",
   "metadata": {},
   "outputs": [],
   "source": []
  },
  {
   "cell_type": "code",
   "execution_count": null,
   "id": "a7edf0fb",
   "metadata": {},
   "outputs": [],
   "source": []
  }
 ],
 "metadata": {
  "kernelspec": {
   "display_name": "Python 3 (ipykernel)",
   "language": "python",
   "name": "python3"
  },
  "language_info": {
   "codemirror_mode": {
    "name": "ipython",
    "version": 3
   },
   "file_extension": ".py",
   "mimetype": "text/x-python",
   "name": "python",
   "nbconvert_exporter": "python",
   "pygments_lexer": "ipython3",
   "version": "3.11.5"
  }
 },
 "nbformat": 4,
 "nbformat_minor": 5
}
